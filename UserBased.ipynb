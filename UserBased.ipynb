{
 "cells": [
  {
   "cell_type": "code",
   "execution_count": 174,
   "metadata": {},
   "outputs": [],
   "source": [
    "import pandas as pd\n",
    "import numpy as np"
   ]
  },
  {
   "cell_type": "code",
   "execution_count": 175,
   "metadata": {},
   "outputs": [
    {
     "data": {
      "text/html": [
       "<div>\n",
       "<style scoped>\n",
       "    .dataframe tbody tr th:only-of-type {\n",
       "        vertical-align: middle;\n",
       "    }\n",
       "\n",
       "    .dataframe tbody tr th {\n",
       "        vertical-align: top;\n",
       "    }\n",
       "\n",
       "    .dataframe thead th {\n",
       "        text-align: right;\n",
       "    }\n",
       "</style>\n",
       "<table border=\"1\" class=\"dataframe\">\n",
       "  <thead>\n",
       "    <tr style=\"text-align: right;\">\n",
       "      <th></th>\n",
       "      <th>track_id</th>\n",
       "      <th>user_id</th>\n",
       "      <th>playcount</th>\n",
       "    </tr>\n",
       "  </thead>\n",
       "  <tbody>\n",
       "    <tr>\n",
       "      <th>0</th>\n",
       "      <td>TRIRLYL128F42539D1</td>\n",
       "      <td>b80344d063b5ccb3212f76538f3d9e43d87dca9e</td>\n",
       "      <td>1</td>\n",
       "    </tr>\n",
       "    <tr>\n",
       "      <th>1</th>\n",
       "      <td>TRFUPBA128F934F7E1</td>\n",
       "      <td>b80344d063b5ccb3212f76538f3d9e43d87dca9e</td>\n",
       "      <td>1</td>\n",
       "    </tr>\n",
       "    <tr>\n",
       "      <th>2</th>\n",
       "      <td>TRLQPQJ128F42AA94F</td>\n",
       "      <td>b80344d063b5ccb3212f76538f3d9e43d87dca9e</td>\n",
       "      <td>1</td>\n",
       "    </tr>\n",
       "  </tbody>\n",
       "</table>\n",
       "</div>"
      ],
      "text/plain": [
       "             track_id                                   user_id  playcount\n",
       "0  TRIRLYL128F42539D1  b80344d063b5ccb3212f76538f3d9e43d87dca9e          1\n",
       "1  TRFUPBA128F934F7E1  b80344d063b5ccb3212f76538f3d9e43d87dca9e          1\n",
       "2  TRLQPQJ128F42AA94F  b80344d063b5ccb3212f76538f3d9e43d87dca9e          1"
      ]
     },
     "execution_count": 175,
     "metadata": {},
     "output_type": "execute_result"
    }
   ],
   "source": [
    "user_df=pd.read_csv(\"E:\\\\Projects\\\\Machine Learning\\\\Music Recommender System\\\\User Listening History.csv\")\n",
    "user_df.head(3)"
   ]
  },
  {
   "cell_type": "code",
   "execution_count": 176,
   "metadata": {},
   "outputs": [
    {
     "name": "stdout",
     "output_type": "stream",
     "text": [
      "<class 'pandas.core.frame.DataFrame'>\n",
      "RangeIndex: 9711301 entries, 0 to 9711300\n",
      "Data columns (total 3 columns):\n",
      " #   Column     Dtype \n",
      "---  ------     ----- \n",
      " 0   track_id   object\n",
      " 1   user_id    object\n",
      " 2   playcount  int64 \n",
      "dtypes: int64(1), object(2)\n",
      "memory usage: 222.3+ MB\n"
     ]
    }
   ],
   "source": [
    "user_df.info()"
   ]
  },
  {
   "cell_type": "code",
   "execution_count": 177,
   "metadata": {},
   "outputs": [],
   "source": [
    "name_df_path=\"E:\\\\Projects\\\\Machine Learning\\\\Music Recommender System\\\\Music Info.csv\"\n",
    "name_df=pd.read_csv(name_df_path)"
   ]
  },
  {
   "cell_type": "code",
   "execution_count": 178,
   "metadata": {},
   "outputs": [
    {
     "name": "stdout",
     "output_type": "stream",
     "text": [
      "<class 'pandas.core.frame.DataFrame'>\n",
      "RangeIndex: 50683 entries, 0 to 50682\n",
      "Data columns (total 21 columns):\n",
      " #   Column               Non-Null Count  Dtype  \n",
      "---  ------               --------------  -----  \n",
      " 0   track_id             50683 non-null  object \n",
      " 1   name                 50683 non-null  object \n",
      " 2   artist               50683 non-null  object \n",
      " 3   spotify_preview_url  50683 non-null  object \n",
      " 4   spotify_id           50683 non-null  object \n",
      " 5   tags                 49556 non-null  object \n",
      " 6   genre                22348 non-null  object \n",
      " 7   year                 50683 non-null  int64  \n",
      " 8   duration_ms          50683 non-null  int64  \n",
      " 9   danceability         50683 non-null  float64\n",
      " 10  energy               50683 non-null  float64\n",
      " 11  key                  50683 non-null  int64  \n",
      " 12  loudness             50683 non-null  float64\n",
      " 13  mode                 50683 non-null  int64  \n",
      " 14  speechiness          50683 non-null  float64\n",
      " 15  acousticness         50683 non-null  float64\n",
      " 16  instrumentalness     50683 non-null  float64\n",
      " 17  liveness             50683 non-null  float64\n",
      " 18  valence              50683 non-null  float64\n",
      " 19  tempo                50683 non-null  float64\n",
      " 20  time_signature       50683 non-null  int64  \n",
      "dtypes: float64(9), int64(5), object(7)\n",
      "memory usage: 8.1+ MB\n"
     ]
    }
   ],
   "source": [
    "name_df.info()"
   ]
  },
  {
   "cell_type": "code",
   "execution_count": 179,
   "metadata": {},
   "outputs": [
    {
     "data": {
      "text/html": [
       "<div>\n",
       "<style scoped>\n",
       "    .dataframe tbody tr th:only-of-type {\n",
       "        vertical-align: middle;\n",
       "    }\n",
       "\n",
       "    .dataframe tbody tr th {\n",
       "        vertical-align: top;\n",
       "    }\n",
       "\n",
       "    .dataframe thead th {\n",
       "        text-align: right;\n",
       "    }\n",
       "</style>\n",
       "<table border=\"1\" class=\"dataframe\">\n",
       "  <thead>\n",
       "    <tr style=\"text-align: right;\">\n",
       "      <th></th>\n",
       "      <th>track_id</th>\n",
       "      <th>user_id</th>\n",
       "      <th>playcount</th>\n",
       "      <th>name</th>\n",
       "    </tr>\n",
       "  </thead>\n",
       "  <tbody>\n",
       "    <tr>\n",
       "      <th>0</th>\n",
       "      <td>TRIRLYL128F42539D1</td>\n",
       "      <td>b80344d063b5ccb3212f76538f3d9e43d87dca9e</td>\n",
       "      <td>1</td>\n",
       "      <td>Nothing From Nothing</td>\n",
       "    </tr>\n",
       "    <tr>\n",
       "      <th>1</th>\n",
       "      <td>TRFUPBA128F934F7E1</td>\n",
       "      <td>b80344d063b5ccb3212f76538f3d9e43d87dca9e</td>\n",
       "      <td>1</td>\n",
       "      <td>Paper Gangsta</td>\n",
       "    </tr>\n",
       "    <tr>\n",
       "      <th>2</th>\n",
       "      <td>TRLQPQJ128F42AA94F</td>\n",
       "      <td>b80344d063b5ccb3212f76538f3d9e43d87dca9e</td>\n",
       "      <td>1</td>\n",
       "      <td>Soy</td>\n",
       "    </tr>\n",
       "    <tr>\n",
       "      <th>3</th>\n",
       "      <td>TRTUCUY128F92E1D24</td>\n",
       "      <td>b80344d063b5ccb3212f76538f3d9e43d87dca9e</td>\n",
       "      <td>1</td>\n",
       "      <td>Stacked Actors</td>\n",
       "    </tr>\n",
       "    <tr>\n",
       "      <th>4</th>\n",
       "      <td>TRHDDQG12903CB53EE</td>\n",
       "      <td>b80344d063b5ccb3212f76538f3d9e43d87dca9e</td>\n",
       "      <td>1</td>\n",
       "      <td>Heaven's Gonna Burn Your Eyes</td>\n",
       "    </tr>\n",
       "    <tr>\n",
       "      <th>...</th>\n",
       "      <td>...</td>\n",
       "      <td>...</td>\n",
       "      <td>...</td>\n",
       "      <td>...</td>\n",
       "    </tr>\n",
       "    <tr>\n",
       "      <th>9711296</th>\n",
       "      <td>TRBKFKL128E078ED76</td>\n",
       "      <td>b7815dbb206eb2831ce0fe040d0aa537e2e800f7</td>\n",
       "      <td>1</td>\n",
       "      <td>Hailie's Song</td>\n",
       "    </tr>\n",
       "    <tr>\n",
       "      <th>9711297</th>\n",
       "      <td>TRYFXPG128E078ECBD</td>\n",
       "      <td>b7815dbb206eb2831ce0fe040d0aa537e2e800f7</td>\n",
       "      <td>1</td>\n",
       "      <td>Forgot About Dre</td>\n",
       "    </tr>\n",
       "    <tr>\n",
       "      <th>9711298</th>\n",
       "      <td>TROBUUZ128F4263002</td>\n",
       "      <td>b7815dbb206eb2831ce0fe040d0aa537e2e800f7</td>\n",
       "      <td>1</td>\n",
       "      <td>Paralyzer</td>\n",
       "    </tr>\n",
       "    <tr>\n",
       "      <th>9711299</th>\n",
       "      <td>TROEWXC128F148C83E</td>\n",
       "      <td>b7815dbb206eb2831ce0fe040d0aa537e2e800f7</td>\n",
       "      <td>1</td>\n",
       "      <td>What's The Difference</td>\n",
       "    </tr>\n",
       "    <tr>\n",
       "      <th>9711300</th>\n",
       "      <td>TROHQNO128F146ECCB</td>\n",
       "      <td>b7815dbb206eb2831ce0fe040d0aa537e2e800f7</td>\n",
       "      <td>1</td>\n",
       "      <td>Smoke It</td>\n",
       "    </tr>\n",
       "  </tbody>\n",
       "</table>\n",
       "<p>9711301 rows × 4 columns</p>\n",
       "</div>"
      ],
      "text/plain": [
       "                   track_id                                   user_id  \\\n",
       "0        TRIRLYL128F42539D1  b80344d063b5ccb3212f76538f3d9e43d87dca9e   \n",
       "1        TRFUPBA128F934F7E1  b80344d063b5ccb3212f76538f3d9e43d87dca9e   \n",
       "2        TRLQPQJ128F42AA94F  b80344d063b5ccb3212f76538f3d9e43d87dca9e   \n",
       "3        TRTUCUY128F92E1D24  b80344d063b5ccb3212f76538f3d9e43d87dca9e   \n",
       "4        TRHDDQG12903CB53EE  b80344d063b5ccb3212f76538f3d9e43d87dca9e   \n",
       "...                     ...                                       ...   \n",
       "9711296  TRBKFKL128E078ED76  b7815dbb206eb2831ce0fe040d0aa537e2e800f7   \n",
       "9711297  TRYFXPG128E078ECBD  b7815dbb206eb2831ce0fe040d0aa537e2e800f7   \n",
       "9711298  TROBUUZ128F4263002  b7815dbb206eb2831ce0fe040d0aa537e2e800f7   \n",
       "9711299  TROEWXC128F148C83E  b7815dbb206eb2831ce0fe040d0aa537e2e800f7   \n",
       "9711300  TROHQNO128F146ECCB  b7815dbb206eb2831ce0fe040d0aa537e2e800f7   \n",
       "\n",
       "         playcount                           name  \n",
       "0                1           Nothing From Nothing  \n",
       "1                1                  Paper Gangsta  \n",
       "2                1                            Soy  \n",
       "3                1                 Stacked Actors  \n",
       "4                1  Heaven's Gonna Burn Your Eyes  \n",
       "...            ...                            ...  \n",
       "9711296          1                  Hailie's Song  \n",
       "9711297          1               Forgot About Dre  \n",
       "9711298          1                      Paralyzer  \n",
       "9711299          1          What's The Difference  \n",
       "9711300          1                       Smoke It  \n",
       "\n",
       "[9711301 rows x 4 columns]"
      ]
     },
     "execution_count": 179,
     "metadata": {},
     "output_type": "execute_result"
    }
   ],
   "source": [
    "ini_df = pd.merge(user_df, name_df[['track_id', 'name']], on='track_id', how='left')\n",
    "ini_df"
   ]
  },
  {
   "cell_type": "code",
   "execution_count": 180,
   "metadata": {},
   "outputs": [
    {
     "name": "stdout",
     "output_type": "stream",
     "text": [
      "<class 'pandas.core.frame.DataFrame'>\n",
      "RangeIndex: 9711301 entries, 0 to 9711300\n",
      "Data columns (total 4 columns):\n",
      " #   Column     Dtype \n",
      "---  ------     ----- \n",
      " 0   track_id   object\n",
      " 1   user_id    object\n",
      " 2   playcount  int64 \n",
      " 3   name       object\n",
      "dtypes: int64(1), object(3)\n",
      "memory usage: 296.4+ MB\n"
     ]
    }
   ],
   "source": [
    "ini_df.info()"
   ]
  },
  {
   "cell_type": "code",
   "execution_count": 181,
   "metadata": {},
   "outputs": [
    {
     "data": {
      "text/plain": [
       "track_id     0\n",
       "user_id      0\n",
       "playcount    0\n",
       "name         0\n",
       "dtype: int64"
      ]
     },
     "execution_count": 181,
     "metadata": {},
     "output_type": "execute_result"
    }
   ],
   "source": [
    "ini_df.isna().sum()"
   ]
  },
  {
   "cell_type": "code",
   "execution_count": 182,
   "metadata": {},
   "outputs": [
    {
     "data": {
      "text/plain": [
       "np.int64(0)"
      ]
     },
     "execution_count": 182,
     "metadata": {},
     "output_type": "execute_result"
    }
   ],
   "source": [
    "ini_df.duplicated().sum()"
   ]
  },
  {
   "cell_type": "code",
   "execution_count": 183,
   "metadata": {},
   "outputs": [],
   "source": [
    "ini_df[\"playcount\"] = np.log1p(ini_df[\"playcount\"])"
   ]
  },
  {
   "cell_type": "code",
   "execution_count": 184,
   "metadata": {},
   "outputs": [],
   "source": [
    "ini_df[\"user_idx\"] = ini_df[\"user_id\"].astype(\"category\").cat.codes\n",
    "ini_df[\"track_idx\"] = ini_df[\"track_id\"].astype(\"category\").cat.codes"
   ]
  },
  {
   "cell_type": "code",
   "execution_count": 185,
   "metadata": {},
   "outputs": [],
   "source": [
    "import torch\n",
    "users = torch.tensor(ini_df[\"user_idx\"].values, dtype=torch.long)\n",
    "tracks = torch.tensor(ini_df[\"track_idx\"].values, dtype=torch.long)\n",
    "ratings = torch.tensor(ini_df[\"playcount\"].values, dtype=torch.float32)"
   ]
  },
  {
   "cell_type": "code",
   "execution_count": 186,
   "metadata": {},
   "outputs": [],
   "source": [
    "import torch.nn as nn\n",
    "import torch.optim as optim\n",
    "\n",
    "class NCF(nn.Module):\n",
    "    def __init__(self, num_users, num_items, embedding_dim=32):\n",
    "        super(NCF, self).__init__()\n",
    "        self.user_embedding = nn.Embedding(num_users, embedding_dim)\n",
    "        self.item_embedding = nn.Embedding(num_items, embedding_dim)\n",
    "        \n",
    "        # Fully connected layers\n",
    "        self.fc1 = nn.Linear(embedding_dim * 2, 64)\n",
    "        self.fc2 = nn.Linear(64, 1)\n",
    "        self.relu = nn.ReLU()\n",
    "    \n",
    "    def forward(self, user_ids, item_ids):\n",
    "        user_embeds = self.user_embedding(user_ids)\n",
    "        item_embeds = self.item_embedding(item_ids)\n",
    "        x = torch.cat([user_embeds, item_embeds], dim=1)\n",
    "        x = self.relu(self.fc1(x))\n",
    "        x = self.fc2(x)\n",
    "        return x.squeeze()\n"
   ]
  },
  {
   "cell_type": "code",
   "execution_count": 187,
   "metadata": {},
   "outputs": [
    {
     "data": {
      "text/plain": [
       "NCF(\n",
       "  (user_embedding): Embedding(962037, 32)\n",
       "  (item_embedding): Embedding(50683, 32)\n",
       "  (fc1): Linear(in_features=64, out_features=64, bias=True)\n",
       "  (fc2): Linear(in_features=64, out_features=1, bias=True)\n",
       "  (relu): ReLU()\n",
       ")"
      ]
     },
     "execution_count": 187,
     "metadata": {},
     "output_type": "execute_result"
    }
   ],
   "source": [
    "user_to_index = {user_id: idx for idx, user_id in enumerate(user_df[\"user_id\"].unique())}\n",
    "track_to_index = {track_id: idx for idx, track_id in enumerate(name_df[\"track_id\"].unique())}\n",
    "\n",
    "num_users = len(user_to_index)\n",
    "num_tracks = len(track_to_index)\n",
    "model = NCF(num_users, num_tracks)\n",
    "\n",
    "# Define loss function and optimizer\n",
    "criterion = nn.MSELoss()  # Since we predict playcounts\n",
    "optimizer = optim.Adam(model.parameters(), lr=0.001)\n",
    "\n",
    "# Move to GPU if available\n",
    "device = torch.device(\"cuda\" if torch.cuda.is_available() else \"cpu\")\n",
    "model.to(device)\n"
   ]
  },
  {
   "cell_type": "code",
   "execution_count": 188,
   "metadata": {},
   "outputs": [
    {
     "name": "stdout",
     "output_type": "stream",
     "text": [
      "b80344d063b5ccb3212f76538f3d9e43d87dca9e\n",
      "85c1f87fea955d09b4bec2e36aee110927aedf9a\n",
      "bd4c6e843f00bd476847fb75c47b4fb430a06856\n",
      "969cc6fb74e076a68e36a04409cb9d3765757508\n",
      "4bd88bfb25263a75bbdd467e74018f4ae570e5df\n",
      "e006b1a48f466bf59feefed32bec6494495a4436\n",
      "9d6f0ead607ac2a6c2460e4d14fb439a146b7dec\n",
      "9bb911319fbc04f01755814cb5edb21df3d1a336\n",
      "b64cdd1a0bd907e5e00b39e345194768e330d652\n",
      "17aa9f6dbdf753831da8f38c71b66b64373de613\n"
     ]
    }
   ],
   "source": [
    "import itertools\n",
    "\n",
    "def print_first_10_keys(dictionary):\n",
    "    \"\"\"Prints the first 10 keys of a dictionary.\"\"\"\n",
    "    first_10_keys = dict(itertools.islice(dictionary.items(), 10)).keys()\n",
    "    for key in first_10_keys:\n",
    "        print(key)\n",
    "\n",
    "print_first_10_keys(user_to_index)"
   ]
  },
  {
   "cell_type": "code",
   "execution_count": 189,
   "metadata": {},
   "outputs": [
    {
     "name": "stdout",
     "output_type": "stream",
     "text": [
      "Epoch 1/10, Loss: 1.078932762145996\n",
      "Epoch 2/10, Loss: 1.029823660850525\n",
      "Epoch 3/10, Loss: 0.9824989438056946\n",
      "Epoch 4/10, Loss: 0.9369860887527466\n",
      "Epoch 5/10, Loss: 0.8933089375495911\n",
      "Epoch 6/10, Loss: 0.8514864444732666\n",
      "Epoch 7/10, Loss: 0.8115336894989014\n",
      "Epoch 8/10, Loss: 0.7734612822532654\n",
      "Epoch 9/10, Loss: 0.7372755408287048\n",
      "Epoch 10/10, Loss: 0.7029780149459839\n"
     ]
    }
   ],
   "source": [
    "epochs = 10\n",
    "batch_size = 512\n",
    "for epoch in range(epochs):\n",
    "    model.train()\n",
    "    optimizer.zero_grad()\n",
    "    \n",
    "    predictions = model(users.to(device), tracks.to(device))\n",
    "    loss = criterion(predictions, ratings.to(device))\n",
    "    \n",
    "    loss.backward()\n",
    "    optimizer.step()\n",
    "    \n",
    "    print(f\"Epoch {epoch+1}/{epochs}, Loss: {loss.item()}\")\n"
   ]
  },
  {
   "cell_type": "code",
   "execution_count": 190,
   "metadata": {},
   "outputs": [
    {
     "name": "stdout",
     "output_type": "stream",
     "text": [
      "Mappings saved successfully.\n"
     ]
    }
   ],
   "source": [
    "import json\n",
    "\n",
    "# Create mappings\n",
    "user_to_index = {user_id: idx for idx, user_id in enumerate(user_df[\"user_id\"].unique())}\n",
    "track_to_index = {track_id: idx for idx, track_id in enumerate(name_df[\"track_id\"].unique())}\n",
    "index_to_track = {idx: track_id for track_id, idx in track_to_index.items()}\n",
    "track_to_name = {row[\"track_id\"]: row[\"name\"] for _, row in name_df.iterrows()}\n",
    "\n",
    "# Save mappings as JSON files\n",
    "def save_json(data, filename):\n",
    "    with open(filename, \"w\") as f:\n",
    "        json.dump(data, f)\n",
    "\n",
    "save_json(user_to_index, \"user_to_index.json\")\n",
    "save_json(track_to_index, \"track_to_index.json\")\n",
    "save_json(index_to_track, \"index_to_track.json\")\n",
    "save_json(track_to_name, \"track_to_name.json\")\n",
    "\n",
    "print(\"Mappings saved successfully.\")\n"
   ]
  },
  {
   "cell_type": "code",
   "execution_count": 191,
   "metadata": {},
   "outputs": [],
   "source": [
    "def recommend_songs(user_id, top_n=10):\n",
    "    if user_id not in user_to_index:\n",
    "        return f\"User ID {user_id} not found in dataset.\"\n",
    "\n",
    "    model.eval()\n",
    "    user_tensor = torch.tensor([user_to_index[user_id]] * len(track_to_index), dtype=torch.long).to(device)\n",
    "    track_tensor = torch.tensor(list(track_to_index.values()), dtype=torch.long).to(device)\n",
    "\n",
    "    with torch.no_grad():\n",
    "        predictions = model(user_tensor, track_tensor)\n",
    "\n",
    "    _, indices = torch.topk(predictions, top_n)\n",
    "    recommended_track_ids = [index_to_track[idx.item()] for idx in indices]\n",
    "\n",
    "    # Convert track IDs to song names\n",
    "    recommended_songs = [track_to_name.get(track_id, \"Unknown Song\") for track_id in recommended_track_ids]\n",
    "\n",
    "    return recommended_songs"
   ]
  },
  {
   "cell_type": "code",
   "execution_count": 192,
   "metadata": {},
   "outputs": [
    {
     "name": "stdout",
     "output_type": "stream",
     "text": [
      "Embedding Size in Model: 50683\n"
     ]
    }
   ],
   "source": [
    "print(\"Embedding Size in Model:\", model.item_embedding.num_embeddings)"
   ]
  },
  {
   "cell_type": "code",
   "execution_count": 195,
   "metadata": {},
   "outputs": [
    {
     "name": "stdout",
     "output_type": "stream",
     "text": [
      "['Thick Stew', 'These Are The Days', 'Living Life', 'Like a Prayer', 'Smalltown Boy', 'Generation', 'The Honesty of Constant Human Error', 'The Light That Failed', 'Buried', 'No Other One']\n"
     ]
    }
   ],
   "source": [
    "user_id = \"e006b1a48f466bf59feefed32bec6494495a4436\"\n",
    "print(recommend_songs(user_id))"
   ]
  },
  {
   "cell_type": "code",
   "execution_count": 194,
   "metadata": {},
   "outputs": [],
   "source": [
    "torch.save(model.state_dict(), \"collaborative_model.pth\")"
   ]
  }
 ],
 "metadata": {
  "kernelspec": {
   "display_name": "recommender",
   "language": "python",
   "name": "python3"
  },
  "language_info": {
   "codemirror_mode": {
    "name": "ipython",
    "version": 3
   },
   "file_extension": ".py",
   "mimetype": "text/x-python",
   "name": "python",
   "nbconvert_exporter": "python",
   "pygments_lexer": "ipython3",
   "version": "3.13.2"
  }
 },
 "nbformat": 4,
 "nbformat_minor": 2
}
